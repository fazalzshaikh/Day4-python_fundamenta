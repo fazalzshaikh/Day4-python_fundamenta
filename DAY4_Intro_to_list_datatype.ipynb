{
 "cells": [
  {
   "cell_type": "code",
   "execution_count": 1,
   "id": "8e34a840",
   "metadata": {},
   "outputs": [],
   "source": [
    "# introduction to list datatype"
   ]
  },
  {
   "cell_type": "code",
   "execution_count": 2,
   "id": "e95b0bed",
   "metadata": {},
   "outputs": [],
   "source": [
    "students=['fazal','iliyas','asim','mazhar','feroz']"
   ]
  },
  {
   "cell_type": "code",
   "execution_count": 3,
   "id": "17fc5043",
   "metadata": {},
   "outputs": [
    {
     "ename": "SyntaxError",
     "evalue": "invalid syntax (<ipython-input-3-22aa7dda5391>, line 1)",
     "output_type": "error",
     "traceback": [
      "\u001b[1;36m  File \u001b[1;32m\"<ipython-input-3-22aa7dda5391>\"\u001b[1;36m, line \u001b[1;32m1\u001b[0m\n\u001b[1;33m    print(students[])\u001b[0m\n\u001b[1;37m                   ^\u001b[0m\n\u001b[1;31mSyntaxError\u001b[0m\u001b[1;31m:\u001b[0m invalid syntax\n"
     ]
    }
   ],
   "source": [
    "print(students[])"
   ]
  },
  {
   "cell_type": "code",
   "execution_count": 4,
   "id": "f112d307",
   "metadata": {},
   "outputs": [
    {
     "name": "stdout",
     "output_type": "stream",
     "text": [
      "['fazal', 'iliyas', 'asim', 'mazhar', 'feroz']\n"
     ]
    }
   ],
   "source": [
    "print(students)"
   ]
  },
  {
   "cell_type": "code",
   "execution_count": 5,
   "id": "4edb5dab",
   "metadata": {},
   "outputs": [],
   "source": [
    "#to access the members of list"
   ]
  },
  {
   "cell_type": "code",
   "execution_count": 6,
   "id": "50419a1f",
   "metadata": {},
   "outputs": [],
   "source": [
    "# indexing starts with 0,,1,2,3,4,5......"
   ]
  },
  {
   "cell_type": "code",
   "execution_count": 7,
   "id": "82b0cdb4",
   "metadata": {},
   "outputs": [
    {
     "name": "stdout",
     "output_type": "stream",
     "text": [
      "mazhar\n"
     ]
    }
   ],
   "source": [
    "print(students[3])"
   ]
  },
  {
   "cell_type": "code",
   "execution_count": 8,
   "id": "e7adb497",
   "metadata": {},
   "outputs": [
    {
     "name": "stdout",
     "output_type": "stream",
     "text": [
      "Asim\n"
     ]
    }
   ],
   "source": [
    "print(students[2].title())"
   ]
  },
  {
   "cell_type": "code",
   "execution_count": 9,
   "id": "5d2a1bb2",
   "metadata": {},
   "outputs": [
    {
     "name": "stdout",
     "output_type": "stream",
     "text": [
      "Members of list=\n",
      "student[0]\n",
      "students[1]\n",
      "students[2]\n",
      "students[3]\n",
      "students[4]\n"
     ]
    }
   ],
   "source": [
    "print(\"Members of list=\\nstudent[0]\\nstudents[1]\\nstudents[2]\\nstudents[3]\\nstudents[4]\")"
   ]
  },
  {
   "cell_type": "code",
   "execution_count": 10,
   "id": "b09f6190",
   "metadata": {},
   "outputs": [
    {
     "ename": "SyntaxError",
     "evalue": "EOL while scanning string literal (<ipython-input-10-89cfd006d554>, line 1)",
     "output_type": "error",
     "traceback": [
      "\u001b[1;36m  File \u001b[1;32m\"<ipython-input-10-89cfd006d554>\"\u001b[1;36m, line \u001b[1;32m1\u001b[0m\n\u001b[1;33m    print(\"Members of list=\\n(student[0]))\u001b[0m\n\u001b[1;37m                                          ^\u001b[0m\n\u001b[1;31mSyntaxError\u001b[0m\u001b[1;31m:\u001b[0m EOL while scanning string literal\n"
     ]
    }
   ],
   "source": [
    "print(\"Members of list=\\n(student[0]))"
   ]
  },
  {
   "cell_type": "code",
   "execution_count": 11,
   "id": "618e364b",
   "metadata": {},
   "outputs": [],
   "source": [
    "# to add a new elements"
   ]
  },
  {
   "cell_type": "code",
   "execution_count": 12,
   "id": "b4faa490",
   "metadata": {},
   "outputs": [],
   "source": [
    "students.append('irshad')"
   ]
  },
  {
   "cell_type": "code",
   "execution_count": 13,
   "id": "aa338060",
   "metadata": {},
   "outputs": [
    {
     "name": "stdout",
     "output_type": "stream",
     "text": [
      "['fazal', 'iliyas', 'asim', 'mazhar', 'feroz', 'irshad']\n"
     ]
    }
   ],
   "source": [
    "print(students)"
   ]
  },
  {
   "cell_type": "code",
   "execution_count": 14,
   "id": "e51c9d64",
   "metadata": {},
   "outputs": [],
   "source": [
    "#I want to add irshad at position 2\n",
    "#for that first i need to delete irshad from the list and then add it to 2nd position"
   ]
  },
  {
   "cell_type": "code",
   "execution_count": 15,
   "id": "db543159",
   "metadata": {},
   "outputs": [],
   "source": [
    "# to Delete"
   ]
  },
  {
   "cell_type": "code",
   "execution_count": 16,
   "id": "1e8a976c",
   "metadata": {},
   "outputs": [
    {
     "ename": "NameError",
     "evalue": "name 'student' is not defined",
     "output_type": "error",
     "traceback": [
      "\u001b[1;31m---------------------------------------------------------------------------\u001b[0m",
      "\u001b[1;31mNameError\u001b[0m                                 Traceback (most recent call last)",
      "\u001b[1;32m<ipython-input-16-a76bc00b3dc1>\u001b[0m in \u001b[0;36m<module>\u001b[1;34m\u001b[0m\n\u001b[1;32m----> 1\u001b[1;33m \u001b[1;32mdel\u001b[0m \u001b[0mstudent\u001b[0m\u001b[1;33m[\u001b[0m\u001b[1;36m5\u001b[0m\u001b[1;33m]\u001b[0m\u001b[1;33m\u001b[0m\u001b[1;33m\u001b[0m\u001b[0m\n\u001b[0m",
      "\u001b[1;31mNameError\u001b[0m: name 'student' is not defined"
     ]
    }
   ],
   "source": [
    "del student[5]"
   ]
  },
  {
   "cell_type": "code",
   "execution_count": 17,
   "id": "0bc13e08",
   "metadata": {},
   "outputs": [],
   "source": [
    "del students[5]"
   ]
  },
  {
   "cell_type": "code",
   "execution_count": 18,
   "id": "6abda276",
   "metadata": {},
   "outputs": [
    {
     "name": "stdout",
     "output_type": "stream",
     "text": [
      "['fazal', 'iliyas', 'asim', 'mazhar', 'feroz']\n"
     ]
    }
   ],
   "source": [
    "print(students)"
   ]
  },
  {
   "cell_type": "code",
   "execution_count": 19,
   "id": "5864ebe5",
   "metadata": {},
   "outputs": [],
   "source": [
    "# to insert irshad at 2nd position"
   ]
  },
  {
   "cell_type": "code",
   "execution_count": 20,
   "id": "444793e3",
   "metadata": {},
   "outputs": [],
   "source": [
    "students.insert(2,'irshad')"
   ]
  },
  {
   "cell_type": "code",
   "execution_count": 21,
   "id": "6c270704",
   "metadata": {},
   "outputs": [
    {
     "name": "stdout",
     "output_type": "stream",
     "text": [
      "['fazal', 'iliyas', 'irshad', 'asim', 'mazhar', 'feroz']\n"
     ]
    }
   ],
   "source": [
    "print(students)"
   ]
  },
  {
   "cell_type": "code",
   "execution_count": null,
   "id": "cb4f678a",
   "metadata": {},
   "outputs": [],
   "source": []
  },
  {
   "cell_type": "code",
   "execution_count": null,
   "id": "eb703899",
   "metadata": {},
   "outputs": [],
   "source": []
  },
  {
   "cell_type": "code",
   "execution_count": null,
   "id": "d45a1b0e",
   "metadata": {},
   "outputs": [],
   "source": []
  }
 ],
 "metadata": {
  "kernelspec": {
   "display_name": "Python 3",
   "language": "python",
   "name": "python3"
  },
  "language_info": {
   "codemirror_mode": {
    "name": "ipython",
    "version": 3
   },
   "file_extension": ".py",
   "mimetype": "text/x-python",
   "name": "python",
   "nbconvert_exporter": "python",
   "pygments_lexer": "ipython3",
   "version": "3.8.8"
  }
 },
 "nbformat": 4,
 "nbformat_minor": 5
}
